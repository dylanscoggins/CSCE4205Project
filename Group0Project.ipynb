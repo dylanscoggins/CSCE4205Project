{
  "nbformat": 4,
  "nbformat_minor": 0,
  "metadata": {
    "colab": {
      "name": "Group0Project.ipynb",
      "provenance": [],
      "mount_file_id": "https://github.com/dylanscoggins/CSCE4205Project/blob/dylan/Group0Project.ipynb",
      "authorship_tag": "ABX9TyNB9MDgA8qm7HahlICqIr07",
      "include_colab_link": true
    },
    "kernelspec": {
      "name": "python3",
      "display_name": "Python 3"
    }
  },
  "cells": [
    {
      "cell_type": "markdown",
      "metadata": {
        "id": "view-in-github",
        "colab_type": "text"
      },
      "source": [
        "<a href=\"https://colab.research.google.com/github/dylanscoggins/CSCE4205Project/blob/dylan/Group0Project.ipynb\" target=\"_parent\"><img src=\"https://colab.research.google.com/assets/colab-badge.svg\" alt=\"Open In Colab\"/></a>"
      ]
    },
    {
      "cell_type": "markdown",
      "metadata": {
        "id": "votwwgYO8XZp"
      },
      "source": [
        "# Project Imports"
      ]
    },
    {
      "cell_type": "code",
      "metadata": {
        "id": "EcY7_HSl8cph"
      },
      "source": [
        "import pandas as pd\n",
        "import os\n",
        "import re"
      ],
      "execution_count": 14,
      "outputs": []
    },
    {
      "cell_type": "markdown",
      "metadata": {
        "id": "XPahKJdh_axy"
      },
      "source": [
        "# Mount Google Drive"
      ]
    },
    {
      "cell_type": "code",
      "metadata": {
        "id": "_GjiZNXD_gS6",
        "outputId": "20d9bae0-0293-428b-ef2d-6c7e4a6cfbe0",
        "colab": {
          "base_uri": "https://localhost:8080/"
        }
      },
      "source": [
        "from google.colab import drive\n",
        "drive.mount('/content/gdrive')"
      ],
      "execution_count": 5,
      "outputs": [
        {
          "output_type": "stream",
          "text": [
            "Mounted at /content/gdrive\n"
          ],
          "name": "stdout"
        }
      ]
    },
    {
      "cell_type": "markdown",
      "metadata": {
        "id": "A-4Tg9beCaGq"
      },
      "source": [
        "# Helper Functions"
      ]
    },
    {
      "cell_type": "code",
      "metadata": {
        "id": "5yVXuQZDCcSz"
      },
      "source": [
        "# credit to https://www.kaggle.com/reddieeddie\n",
        "def get_row(df, col, name):\n",
        "  return df[df[col]==name]"
      ],
      "execution_count": 15,
      "outputs": []
    },
    {
      "cell_type": "markdown",
      "metadata": {
        "id": "zZahHEIp8fEV"
      },
      "source": [
        "# Data Sets"
      ]
    },
    {
      "cell_type": "code",
      "metadata": {
        "id": "-b5vbg_N8h0E"
      },
      "source": [
        "# download .csv data sets from GitHub repository\n",
        "# link to repo: https://github.com/dylanscoggins/CSCE4205Project\n",
        "pokemonDataSet01 = 'https://raw.githubusercontent.com/dylanscoggins/CSCE4205Project/main/PokemonDataSet01.csv'\n",
        "ds1 = pd.read_csv(pokemonDataSet01)\n",
        "\n",
        "pokemonDataSet02 = 'https://raw.githubusercontent.com/dylanscoggins/CSCE4205Project/main/PokemonDataSet02.csv'\n",
        "ds2 = pd.read_csv(pokemonDataSet02)\n",
        "\n",
        "# associate images with pokemon in ds2\n",
        "# credit to https://www.kaggle.com/reddieeddie for the framework to set up Pokédex\n",
        "pokedex = '/content/gdrive/MyDrive/CSCE 4205/Project Data/Images/'\n",
        "fileNames = os.listdir(pokedex)\n",
        "pokeNames, pokeTypes = [], []\n",
        "for path in os.listdir(pokedex):\n",
        "  name = re.search(r\"^([^.]*).*\", path).group(1)\n",
        "  pokeNames.append(name.capitalize())\n",
        "  pokeTypes.append(ds2['Type1'][int(get_row(ds2, 'Name', name).index.values)])\n",
        "\n",
        "numImgs = len(filenames)\n",
        "# print(\"Number of pokemon: \", numImgs)\n",
        "print(\"Pokédex contains\", numImgs, \"Pokémon\")\n",
        "\n",
        "col1 = fileNames\n",
        "col2 = pokeNames\n",
        "col3 = pokeTypes\n",
        "\n",
        "pokemonData = pd.DataFrame({'Image':col1, 'Pokémon':col2, 'Primary Type':col3})\n",
        "pokemonData"
      ],
      "execution_count": null,
      "outputs": []
    }
  ]
}