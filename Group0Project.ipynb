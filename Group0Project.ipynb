{
  "nbformat": 4,
  "nbformat_minor": 0,
  "metadata": {
    "colab": {
      "name": "Group0Project.ipynb",
      "provenance": [],
      "authorship_tag": "ABX9TyO+yexHwnASiQZ90m0NjLh4",
      "include_colab_link": true
    },
    "kernelspec": {
      "name": "python3",
      "display_name": "Python 3"
    }
  },
  "cells": [
    {
      "cell_type": "markdown",
      "metadata": {
        "id": "view-in-github",
        "colab_type": "text"
      },
      "source": [
        "<a href=\"https://colab.research.google.com/github/dylanscoggins/CSCE4205Project/blob/main/Group0Project.ipynb\" target=\"_parent\"><img src=\"https://colab.research.google.com/assets/colab-badge.svg\" alt=\"Open In Colab\"/></a>"
      ]
    },
    {
      "cell_type": "markdown",
      "metadata": {
        "id": "0JFm8UoJHdgM"
      },
      "source": [
        "#Project Imports"
      ]
    },
    {
      "cell_type": "code",
      "metadata": {
        "id": "NGmWGoNGPnr_"
      },
      "source": [
        "import pandas as pd"
      ],
      "execution_count": 2,
      "outputs": []
    },
    {
      "cell_type": "markdown",
      "metadata": {
        "id": "RO8_Tj77IlpP"
      },
      "source": [
        "#Data Sets"
      ]
    },
    {
      "cell_type": "code",
      "metadata": {
        "id": "Gkb8Hu0PIlFS"
      },
      "source": [
        "# download data sets from GitHub repository\n",
        "pokemonDataSet01 = 'https://raw.githubusercontent.com/dylanscoggins/CSCE4205Project/main/PokemonDataSet01.csv'\n",
        "ds1 = pd.read_csv(pokemonDataSet01)\n",
        "\n",
        "pokemonDataSet02 = 'https://raw.githubusercontent.com/dylanscoggins/CSCE4205Project/main/PokemonDataSet02.csv'\n",
        "ds2 = pd.read_csv(pokemonDataSet02)"
      ],
      "execution_count": 3,
      "outputs": []
    },
    {
      "cell_type": "code",
      "metadata": {
        "id": "Kx7r413fMpAX"
      },
      "source": [
        "ds1"
      ],
      "execution_count": null,
      "outputs": []
    },
    {
      "cell_type": "code",
      "metadata": {
        "id": "biz6QkQbMuBT"
      },
      "source": [
        "ds2"
      ],
      "execution_count": null,
      "outputs": []
    }
  ]
}