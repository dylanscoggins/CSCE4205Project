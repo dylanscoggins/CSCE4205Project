{
  "nbformat": 4,
  "nbformat_minor": 0,
  "metadata": {
    "colab": {
      "name": "Group0Project.ipynb",
      "provenance": [],
      "mount_file_id": "https://github.com/dylanscoggins/CSCE4205Project/blob/dylan/Group0Project.ipynb",
      "authorship_tag": "ABX9TyOGiFHqy7lakCkzBxlPVq1U",
      "include_colab_link": true
    },
    "kernelspec": {
      "name": "python3",
      "display_name": "Python 3"
    }
  },
  "cells": [
    {
      "cell_type": "markdown",
      "metadata": {
        "id": "view-in-github",
        "colab_type": "text"
      },
      "source": [
        "<a href=\"https://colab.research.google.com/github/dylanscoggins/CSCE4205Project/blob/dylan/Group0Project.ipynb\" target=\"_parent\"><img src=\"https://colab.research.google.com/assets/colab-badge.svg\" alt=\"Open In Colab\"/></a>"
      ]
    },
    {
      "cell_type": "markdown",
      "metadata": {
        "id": "votwwgYO8XZp"
      },
      "source": [
        "# Project Imports"
      ]
    },
    {
      "cell_type": "code",
      "metadata": {
        "id": "EcY7_HSl8cph"
      },
      "source": [
        "from sklearn.model_selection import train_test_split\n",
        "import matplotlib.pyplot as plt\n",
        "import matplotlib.image as mpimg\n",
        "import tensorflow as tf\n",
        "import pandas as pd\n",
        "import numpy as np\n",
        "import pathlib\n",
        "import os\n",
        "import re"
      ],
      "execution_count": 1,
      "outputs": []
    },
    {
      "cell_type": "markdown",
      "metadata": {
        "id": "XPahKJdh_axy"
      },
      "source": [
        "# Mount Google Drive"
      ]
    },
    {
      "cell_type": "code",
      "metadata": {
        "id": "_GjiZNXD_gS6",
        "colab": {
          "base_uri": "https://localhost:8080/"
        },
        "outputId": "e971c155-65c5-48a7-b3db-967398d35783"
      },
      "source": [
        "from google.colab import drive\n",
        "drive.mount('/content/gdrive')"
      ],
      "execution_count": 5,
      "outputs": [
        {
          "output_type": "stream",
          "text": [
            "Mounted at /content/gdrive\n"
          ],
          "name": "stdout"
        }
      ]
    },
    {
      "cell_type": "markdown",
      "metadata": {
        "id": "A-4Tg9beCaGq"
      },
      "source": [
        "# Helper Functions"
      ]
    },
    {
      "cell_type": "code",
      "metadata": {
        "id": "5yVXuQZDCcSz"
      },
      "source": [
        "# Credit to https://www.kaggle.com/reddieeddie\n",
        "def get_row(df, col, name):\n",
        "  return df[df[col]==name]"
      ],
      "execution_count": 6,
      "outputs": []
    },
    {
      "cell_type": "code",
      "metadata": {
        "id": "D6-wgWDQ_xRk"
      },
      "source": [
        "# Assigns an index label for each Pokémon type\n",
        "# I'm sure there's a much more elegant solution for this, but it works\n",
        "\n",
        "index = []\n",
        "\n",
        "for i in pokeTypes:\n",
        "  if i == 'Bug':\n",
        "    index.append(0)\n",
        "  elif i == 'Dark':\n",
        "    index.append(1)\n",
        "  elif i == 'Dragon':\n",
        "    index.append(2)\n",
        "  elif i == 'Electric':\n",
        "    index.append(3)\n",
        "  elif i == 'Fairy':\n",
        "    index.append(4)\n",
        "  elif i == 'Fighting':\n",
        "    index.append(5)\n",
        "  elif i == 'Fire':\n",
        "    index.append(6)\n",
        "  elif i == 'Flying':\n",
        "    index.append(7)\n",
        "  elif i == 'Ghost':\n",
        "    index.append(8)\n",
        "  elif i == 'Grass':\n",
        "    index.append(9)\n",
        "  elif i == 'Ground':\n",
        "    index.append(10)\n",
        "  elif i == 'Ice':\n",
        "    index.append(11)\n",
        "  elif i == 'Normal':\n",
        "    index.append(12)\n",
        "  elif i == 'Poison':\n",
        "    index.append(13)\n",
        "  elif i == 'Psychic':\n",
        "    index.append(14)\n",
        "  elif i == 'Rock':\n",
        "    index.append(15)\n",
        "  elif i == 'Steel':\n",
        "    index.append(16)\n",
        "  else:\n",
        "    index.append(17)"
      ],
      "execution_count": 8,
      "outputs": []
    },
    {
      "cell_type": "markdown",
      "metadata": {
        "id": "zZahHEIp8fEV"
      },
      "source": [
        "# Import Data Sets"
      ]
    },
    {
      "cell_type": "code",
      "metadata": {
        "id": "-b5vbg_N8h0E",
        "colab": {
          "base_uri": "https://localhost:8080/",
          "height": 442
        },
        "outputId": "317f11cd-480b-42b3-e7f4-c3c7f6536329"
      },
      "source": [
        "# Download .csv data sets from GitHub repository\n",
        "# Link to repo: https://github.com/dylanscoggins/CSCE4205Project\n",
        "pokemonDataSet01 = 'https://raw.githubusercontent.com/dylanscoggins/CSCE4205Project/main/PokemonDataSet01.csv'\n",
        "ds1 = pd.read_csv(pokemonDataSet01)\n",
        "\n",
        "pokemonDataSet02 = 'https://raw.githubusercontent.com/dylanscoggins/CSCE4205Project/main/PokemonDataSet02.csv'\n",
        "ds2 = pd.read_csv(pokemonDataSet02)\n",
        "\n",
        "# Associate images with Pokémon in ds2\n",
        "# Credit to https://www.kaggle.com/reddieeddie for the framework to set up Pokédex\n",
        "pokedex = '/content/gdrive/MyDrive/CSCE 4205/Project Data/Images/'\n",
        "fileNames = os.listdir(pokedex)\n",
        "pokeNames, pokeTypes = [], []\n",
        "for path in os.listdir(pokedex):\n",
        "  name = re.search(r\"^([^.]*).*\", path).group(1)\n",
        "  pokeNames.append(name.capitalize())\n",
        "  pokeTypes.append(ds2['Type1'][int(get_row(ds2, 'Name', name).index.values)])\n",
        "\n",
        "numImgs = len(fileNames)\n",
        "print(\"Pokédex contains\", numImgs, \"Pokémon\")\n",
        "\n",
        "col1 = fileNames  # Image File\n",
        "col2 = pokeNames  # Pokémon Name\n",
        "col3 = pokeTypes  # Pokémon Type\n",
        "col4 = index      # Assigned Label: range(0,18)\n",
        "\n",
        "pokemonDF = pd.DataFrame({'Image': col1, 'Pokémon': col2, 'Class': col3, 'Label': col4})\n",
        "pokemonDF"
      ],
      "execution_count": 9,
      "outputs": [
        {
          "output_type": "stream",
          "text": [
            "Pokédex contains 809 Pokémon\n"
          ],
          "name": "stdout"
        },
        {
          "output_type": "execute_result",
          "data": {
            "text/html": [
              "<div>\n",
              "<style scoped>\n",
              "    .dataframe tbody tr th:only-of-type {\n",
              "        vertical-align: middle;\n",
              "    }\n",
              "\n",
              "    .dataframe tbody tr th {\n",
              "        vertical-align: top;\n",
              "    }\n",
              "\n",
              "    .dataframe thead th {\n",
              "        text-align: right;\n",
              "    }\n",
              "</style>\n",
              "<table border=\"1\" class=\"dataframe\">\n",
              "  <thead>\n",
              "    <tr style=\"text-align: right;\">\n",
              "      <th></th>\n",
              "      <th>Image</th>\n",
              "      <th>Pokémon</th>\n",
              "      <th>Class</th>\n",
              "      <th>Label</th>\n",
              "    </tr>\n",
              "  </thead>\n",
              "  <tbody>\n",
              "    <tr>\n",
              "      <th>0</th>\n",
              "      <td>azumarill.png</td>\n",
              "      <td>Azumarill</td>\n",
              "      <td>Water</td>\n",
              "      <td>17</td>\n",
              "    </tr>\n",
              "    <tr>\n",
              "      <th>1</th>\n",
              "      <td>azurill.png</td>\n",
              "      <td>Azurill</td>\n",
              "      <td>Normal</td>\n",
              "      <td>12</td>\n",
              "    </tr>\n",
              "    <tr>\n",
              "      <th>2</th>\n",
              "      <td>beedrill.png</td>\n",
              "      <td>Beedrill</td>\n",
              "      <td>Bug</td>\n",
              "      <td>0</td>\n",
              "    </tr>\n",
              "    <tr>\n",
              "      <th>3</th>\n",
              "      <td>barbaracle.png</td>\n",
              "      <td>Barbaracle</td>\n",
              "      <td>Rock</td>\n",
              "      <td>15</td>\n",
              "    </tr>\n",
              "    <tr>\n",
              "      <th>4</th>\n",
              "      <td>ampharos.png</td>\n",
              "      <td>Ampharos</td>\n",
              "      <td>Electric</td>\n",
              "      <td>3</td>\n",
              "    </tr>\n",
              "    <tr>\n",
              "      <th>...</th>\n",
              "      <td>...</td>\n",
              "      <td>...</td>\n",
              "      <td>...</td>\n",
              "      <td>...</td>\n",
              "    </tr>\n",
              "    <tr>\n",
              "      <th>804</th>\n",
              "      <td>zapdos.png</td>\n",
              "      <td>Zapdos</td>\n",
              "      <td>Electric</td>\n",
              "      <td>3</td>\n",
              "    </tr>\n",
              "    <tr>\n",
              "      <th>805</th>\n",
              "      <td>yveltal.png</td>\n",
              "      <td>Yveltal</td>\n",
              "      <td>Dark</td>\n",
              "      <td>1</td>\n",
              "    </tr>\n",
              "    <tr>\n",
              "      <th>806</th>\n",
              "      <td>zygarde-50.png</td>\n",
              "      <td>Zygarde-50</td>\n",
              "      <td>Dragon</td>\n",
              "      <td>2</td>\n",
              "    </tr>\n",
              "    <tr>\n",
              "      <th>807</th>\n",
              "      <td>zeraora.jpg</td>\n",
              "      <td>Zeraora</td>\n",
              "      <td>Electric</td>\n",
              "      <td>3</td>\n",
              "    </tr>\n",
              "    <tr>\n",
              "      <th>808</th>\n",
              "      <td>zoroark.png</td>\n",
              "      <td>Zoroark</td>\n",
              "      <td>Dark</td>\n",
              "      <td>1</td>\n",
              "    </tr>\n",
              "  </tbody>\n",
              "</table>\n",
              "<p>809 rows × 4 columns</p>\n",
              "</div>"
            ],
            "text/plain": [
              "              Image     Pokémon     Class  Label\n",
              "0     azumarill.png   Azumarill     Water     17\n",
              "1       azurill.png     Azurill    Normal     12\n",
              "2      beedrill.png    Beedrill       Bug      0\n",
              "3    barbaracle.png  Barbaracle      Rock     15\n",
              "4      ampharos.png    Ampharos  Electric      3\n",
              "..              ...         ...       ...    ...\n",
              "804      zapdos.png      Zapdos  Electric      3\n",
              "805     yveltal.png     Yveltal      Dark      1\n",
              "806  zygarde-50.png  Zygarde-50    Dragon      2\n",
              "807     zeraora.jpg     Zeraora  Electric      3\n",
              "808     zoroark.png     Zoroark      Dark      1\n",
              "\n",
              "[809 rows x 4 columns]"
            ]
          },
          "metadata": {
            "tags": []
          },
          "execution_count": 9
        }
      ]
    },
    {
      "cell_type": "markdown",
      "metadata": {
        "id": "2i4bYDXSHTJS"
      },
      "source": [
        "# Preprocess the DataFrame"
      ]
    },
    {
      "cell_type": "code",
      "metadata": {
        "id": "o0kQO4TEpKTe"
      },
      "source": [
        "# NOTE: This part can potentially take 1min+ to finish executing.\n",
        "# Sometimes seems to hang on something, may need to interrupt and re-execute.\n",
        "# Matplotlib is having to read in 800 plus images (120x120 pixels each) and append\n",
        "# them to a list.\n",
        "imgs = []\n",
        "names = []\n",
        "for i in range(len(pokeNames)):\n",
        "  img = mpimg.imread(pokedex + pokemonDF['Image'][i])\n",
        "  imgs.append(img)"
      ],
      "execution_count": 14,
      "outputs": []
    },
    {
      "cell_type": "code",
      "metadata": {
        "id": "wqMeoki3y6wD"
      },
      "source": [
        "# Split dataframe into train/test sets\n",
        "# random_state is used for reproducibility purposes\n",
        "train_df, test_df = train_test_split(pokemonDF, test_size=0.2, random_state=42)"
      ],
      "execution_count": 29,
      "outputs": []
    },
    {
      "cell_type": "code",
      "metadata": {
        "id": "OaMCHeZY3CgY"
      },
      "source": [
        "# Only need the labels from the train/test dataframes\n",
        "train_labels = train_df[['Label']].copy()\n",
        "test_labels = test_df[['Label']].copy()"
      ],
      "execution_count": 37,
      "outputs": []
    },
    {
      "cell_type": "code",
      "metadata": {
        "id": "xMaoOXDhzV3R"
      },
      "source": [
        "# Split images into train/test sets\n",
        "# random_state=42 same as df split to ensure labels match the images\n",
        "train_imgs, test_imgs = train_test_split(imgs, test_size=0.2, random_state=42)"
      ],
      "execution_count": 30,
      "outputs": []
    },
    {
      "cell_type": "code",
      "metadata": {
        "id": "kTy0p9ISn5hG"
      },
      "source": [
        "# Example of the 1st image in the imgs list\n",
        "plt.figure()\n",
        "plt.imshow(imgs[0])\n",
        "plt.colorbar()\n",
        "plt.grid(False)\n",
        "plt.show()"
      ],
      "execution_count": null,
      "outputs": []
    },
    {
      "cell_type": "code",
      "metadata": {
        "id": "xBtTSrXqmDsT"
      },
      "source": [
        "# Demonstrates that each image has the correct label attached\n",
        "plt.figure(figsize=(10,10))\n",
        "for i in range(30):\n",
        "  plt.subplot(6,5, i+1)\n",
        "  plt.xticks([])\n",
        "  plt.yticks([])\n",
        "  plt.grid(False)\n",
        "  plt.imshow(imgs[i], cmap=plt.cm.binary)\n",
        "  plt.xlabel(pokeNames[i] + \": \" + pokeTypes[i])\n",
        "plt.show()"
      ],
      "execution_count": null,
      "outputs": []
    },
    {
      "cell_type": "markdown",
      "metadata": {
        "id": "0BIzRpLzHmfx"
      },
      "source": [
        "# Building the NN Model"
      ]
    },
    {
      "cell_type": "code",
      "metadata": {
        "id": "-fXdSSjLHtB4"
      },
      "source": [
        "# Builds the NN layers\n",
        "# input_shape: image sizes (120x120 pixels)\n",
        "# 1st Dense layer:\n",
        "# 2nd Dense layer: 18 refers to the unique Pokémon Primary Types\n",
        "model = tf.keras.Sequential([\n",
        "        tf.keras.layers.Flatten(input_shape=(120,120)),\n",
        "        tf.keras.layers.Dense(128, activation='relu'),\n",
        "        tf.keras.layers.Dense(18)\n",
        "])"
      ],
      "execution_count": 17,
      "outputs": []
    },
    {
      "cell_type": "markdown",
      "metadata": {
        "id": "Pex3VGDzIsMP"
      },
      "source": [
        "# Compilation"
      ]
    },
    {
      "cell_type": "code",
      "metadata": {
        "id": "gyASvnKUIu6g"
      },
      "source": [
        "# Model needs to be compiled before it can handle the test/train sets\n",
        "model.compile(optimizer='adam',\n",
        "              loss=tf.keras.losses.SparseCategoricalCrossentropy(from_logits=True),\n",
        "              metrics=['accuracy'])"
      ],
      "execution_count": 18,
      "outputs": []
    }
  ]
}